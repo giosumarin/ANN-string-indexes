{
 "cells": [
  {
   "cell_type": "code",
   "execution_count": null,
   "metadata": {},
   "outputs": [],
   "source": [
    "import re\n",
    "import numpy as np\n",
    "import pandas as pd\n",
    "import matplotlib as mpl\n",
    "import matplotlib.pyplot as plt\n",
    "\n",
    "plt.rcParams[\"font.family\"] = \"Times New Roman\"\n",
    "plt.rcParams[\"font.weight\"] = \"normal\""
   ]
  },
  {
   "cell_type": "code",
   "execution_count": null,
   "metadata": {},
   "outputs": [],
   "source": [
    "real_datasets = [\"WORDS\", \"GEO\", \"URL\", \"DNA\"]\n",
    "real_datasets_map = {\n",
    "    \"az-words_truncated20.txt\": \"WORDS\",\n",
    "    \"GeoNames_truncated20.txt\": \"GEO\",\n",
    "    \"uk-2002_truncated20.txt\": \"URL\",\n",
    "    \"dna-k-mer.txt\": \"DNA\",\n",
    "}"
   ]
  },
  {
   "cell_type": "code",
   "execution_count": null,
   "metadata": {},
   "outputs": [],
   "source": [
    "df_trie = pd.read_csv(\"FST server results.csv\")\n",
    "for k, v in real_datasets_map.items():\n",
    "    df_trie[\"dataset\"] = df_trie[\"dataset\"].str.replace(k, v)\n",
    "\n",
    "df_learned = pd.read_csv(\"learned results.csv\", comment=\"#\")\n",
    "df_learned.dropna(how=\"all\", inplace=True)\n",
    "for k, v in real_datasets_map.items():\n",
    "    df_learned[\"dataset\"] = df_learned[\"dataset\"].str.replace(k, v)\n",
    "\n",
    "df_trie[\"dataset\"] = df_trie[\"dataset\"].str.replace(\"synthetic|.txt\", \"\", regex=True)\n",
    "df_learned[\"dataset\"] = df_learned[\"dataset\"].str.replace(\"synthetic|.txt\", \"\", regex=True)"
   ]
  },
  {
   "cell_type": "code",
   "execution_count": null,
   "metadata": {},
   "outputs": [],
   "source": [
    "def get_model_marker(model):\n",
    "    for x in [\"MLP\", \"LSTM-multi\", \"LSTM\", \"BiLSTM\", \"CNN\"]:\n",
    "        if model.startswith(x):\n",
    "            return f\"${model[0]}$\"\n",
    "    all_markers = [\"o\",  \"p\", \"^\", \"X\", \"+\", \"*\", \"p\", \"v\", \"s\", \"d\", \"H\", \"<\", \">\", \"2\"]\n",
    "    models = \"SMLP.[100, 50]\", \"SMLP.[50, 50]\", \"SMLP.[30, 50]\", \"SMLP.[20, 50]\"\n",
    "    for i, x in enumerate(models):\n",
    "        if model.startswith(x):\n",
    "            return all_markers[i]\n",
    "    return all_markers[-1]\n",
    "\n",
    "\n",
    "def format_model_name(model):\n",
    "    if model.startswith(\"SMLP.\"):\n",
    "       # transform e.g. SMLP.[100, 50].step.10 to SMLP$_{100, 10, 50}$\n",
    "       m = re.match(r\"SMLP\\.\\[(\\d+), (\\d+)\\]\\.step\\.(\\d+)\", model)\n",
    "       b, h, d = m.groups()\n",
    "       new_name = r\"SMLP$_{%s, %s, %s}$\" % (b, d, h)\n",
    "       return model.replace(m.group(0), new_name)\n",
    "    for x in [\"MLP\", \"LSTM-multi\", \"LSTM\", \"BiLSTM\", \"CNN\"]:\n",
    "        if model.startswith(x):\n",
    "            return x\n",
    "    return model\n",
    "        \n",
    "\n",
    "def get_model_color(model):\n",
    "    if \"Expanded\" in model: return \"C4\"\n",
    "    if \"no enrich\" in model: return \"C0\"\n",
    "    norm = mpl.colors.Normalize(vmin=-1, vmax=3)\n",
    "    cmap = mpl.cm.ScalarMappable(norm=norm, cmap=mpl.cm.Reds)\n",
    "    cmap.set_array([])\n",
    "    if \"bin input\" in model: return \"C7\"\n",
    "    if \"step.2\" in model: return cmap.to_rgba(0)\n",
    "    if \"step.3\" in model: return cmap.to_rgba(1)\n",
    "    if \"step.5\" in model: return cmap.to_rgba(2)\n",
    "    if \"step.10\" in model: return cmap.to_rgba(3)\n",
    "    for i, x in enumerate([\"MLP\", \"LSTM-multi\", \"LSTM\", \"BiLSTM\", \"CNN\"]):\n",
    "        if model.startswith(x):\n",
    "            return f\"C{i+2}\"\n",
    "    return \"C3\""
   ]
  },
  {
   "attachments": {},
   "cell_type": "markdown",
   "metadata": {},
   "source": [
    "# Real data"
   ]
  },
  {
   "cell_type": "code",
   "execution_count": null,
   "metadata": {},
   "outputs": [],
   "source": [
    "fig, axs_2d = plt.subplots(2, 2, figsize=(6.99, 6))\n",
    "axs = axs_2d.flatten()\n",
    "\n",
    "plotx = \"bits/string\"\n",
    "ploty = \"mean error\"\n",
    "\n",
    "for title, ax in zip(real_datasets, axs):\n",
    "    d = df_trie[(df_trie[\"dataset\"] == title) & (df_trie[\"error\"] >= 2)]\n",
    "    ax.plot(d[\"trie bytes\"] * 8 / d[\"n\"], d[\"error\"], \"-\",\n",
    "            marker=None, markersize=2, label=\"FST\")\n",
    "    \n",
    "    d2 = df_learned[(df_learned[\"dataset\"] == title)]\n",
    "    for name in d2[\"model\"].unique():\n",
    "        d3 = d2[d2[\"model\"] == name]\n",
    "        ax.plot(d3[plotx], d3[ploty], linestyle=\"None\",\n",
    "                marker=get_model_marker(name), \n",
    "                label=format_model_name(name),\n",
    "                c=get_model_color(name))\n",
    "    ax.set_ylim(0, max(d2[ploty]) * 1.08)\n",
    "    ax.set_xlim(0, max(d2[plotx] * 1.08))\n",
    "\n",
    "    ax.set_title(\"%s (%d strings)\" % (title, d[\"n\"].iloc[0]))\n",
    "    ax.minorticks_on()\n",
    "    ax.grid(which=\"both\", linestyle=\":\", linewidth=\"0.5\", color=\"#DEDEDE\")\n",
    "    ax.legend(ncol=2, prop={\"size\": 5.3})\n",
    "    if ax == axs[2] or ax == axs[3]: ax.set_xlabel(\"Size (bits/string)\")\n",
    "    if ax == axs[0] or ax == axs[2]: ax.set_ylabel(ploty.capitalize())\n",
    "\n",
    "fig.tight_layout()\n",
    "plt.savefig(f\"Real {ploty}.pdf\")\n",
    "plt.show()"
   ]
  },
  {
   "attachments": {},
   "cell_type": "markdown",
   "metadata": {},
   "source": [
    "# Synthetic data"
   ]
  },
  {
   "cell_type": "code",
   "execution_count": null,
   "metadata": {},
   "outputs": [],
   "source": [
    "import re\n",
    "\n",
    "plotx = \"bits/string\"\n",
    "ploty = (\"mean error\", 800)\n",
    "\n",
    "groups = iter([\"Increasing density\", \"Increasing alphabet size\", \"Increasing string length\", \"Fixing dataset size, and varying string length or alphabet size\"])\n",
    "\n",
    "datasets = [\"L12_P6_D0.01_A4\", \"L12_P6_D0.1_A4\", \"L12_P6_D0.5_A4\",    # Varying density\n",
    "            \"L8_P4_D0.01_A12\", \"L8_P4_D0.01_A14\", \"L8_P4_D0.01_A16\",  # Varying alphabet size\n",
    "            \"L14_P7_D0.01_A4\", \"L15_P7_D0.01_A4\", \"L16_P8_D0.01_A4\",  # Varying length\n",
    "            \"L8_P4_D0.005394798103178236_A14\", \"L8_P4_D0.001847386360168457_A16\", \"L12_P6_D8.298315997062881e-09_A14\"] # Keeping size fixed\n",
    "\n",
    "fig, axs_2d = plt.subplots(4, 3, figsize=(6.99, 8.99), sharex=False, sharey=False)\n",
    "axs = axs_2d.flatten()\n",
    "\n",
    "for title, ax in zip(datasets, axs):\n",
    "    d = df_trie[(df_trie[\"dataset\"] == title) & (df_trie[\"error\"] >= 2)]\n",
    "    trie_bit_per_string = d[\"trie bytes\"] * 8 / d[\"n\"]\n",
    "    ax.plot(trie_bit_per_string, d[\"error\"], \"-\",\n",
    "            marker=None, markersize=2, label=\"FST\")\n",
    "    \n",
    "    d2 = df_learned[(df_learned[\"dataset\"] == title)]\n",
    "    for name in d2[\"model\"].unique():\n",
    "        d3 = d2[d2[\"model\"] == name]\n",
    "        ax.plot(d3[plotx], d3[ploty[0]], linestyle=\"None\",\n",
    "                marker=get_model_marker(name), \n",
    "                label=format_model_name(name),\n",
    "                c=get_model_color(name))\n",
    "\n",
    "    if np.where(axs_2d == ax)[0] == 3:\n",
    "        title = re.sub(r\"D.+?_\", \"\", title)\n",
    "\n",
    "    title = re.sub(r\"P\\d+_\", \"\", title)\n",
    "    title = re.sub(r\"([LPDA])\", r\"\\1=\", title)\n",
    "    title = title.replace(\"_\", \",\").replace(\"A\", \"\\sigma\")\n",
    "    title = \"\\n$_{%s}$\" % title\n",
    "    if np.where(axs_2d == ax)[1][0] == 1:\n",
    "        title = next(groups) + title\n",
    "\n",
    "    ax.set_title(title)\n",
    "    ax.set_xlabel(\"Size (bits/string)\")\n",
    "    ax.minorticks_on()\n",
    "    ax.grid(which=\"both\", linestyle=\":\", linewidth=\"0.5\", color=\"#DEDEDE\")\n",
    "    ax.legend(ncol=1, prop={\"size\": 5.5})\n",
    "    ax.set_xlim(0, min(1.1 * d2[plotx].max(), trie_bit_per_string.max()))\n",
    "    ax.set_ylim(-10, ploty[1])\n",
    "    if np.where(axs_2d == ax)[1][0] == 0: ax.set_ylabel(ploty[0].capitalize())\n",
    "\n",
    "fig.tight_layout()\n",
    "plt.savefig(f\"Synthetic {ploty[0]}.pdf\")\n",
    "plt.show()"
   ]
  },
  {
   "cell_type": "code",
   "execution_count": null,
   "metadata": {},
   "outputs": [],
   "source": []
  }
 ],
 "metadata": {
  "interpreter": {
   "hash": "20271651569223dc37f46c7e9a88ecedb6ed1dd18a9f59520291d7c812f24097"
  },
  "kernelspec": {
   "display_name": "Python 3.7.7 64-bit ('base': conda)",
   "language": "python",
   "name": "python3"
  },
  "language_info": {
   "codemirror_mode": {
    "name": "ipython",
    "version": 3
   },
   "file_extension": ".py",
   "mimetype": "text/x-python",
   "name": "python",
   "nbconvert_exporter": "python",
   "pygments_lexer": "ipython3",
   "version": "3.9.6"
  },
  "orig_nbformat": 4
 },
 "nbformat": 4,
 "nbformat_minor": 2
}
